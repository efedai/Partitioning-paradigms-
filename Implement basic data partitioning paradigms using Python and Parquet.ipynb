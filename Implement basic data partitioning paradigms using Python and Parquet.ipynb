{
 "cells": [
  {
   "cell_type": "markdown",
   "id": "lined-relations",
   "metadata": {},
   "source": [
    "Assignment 7.1"
   ]
  },
  {
   "cell_type": "code",
   "execution_count": 1,
   "id": "functional-watch",
   "metadata": {},
   "outputs": [],
   "source": [
    "import os\n",
    "import json\n",
    "from pathlib import Path\n",
    "import gzip\n",
    "import hashlib\n",
    "import shutil\n",
    "import pandas as pd\n",
    "import pygeohash\n",
    "import s3fs\n",
    "endpoint_url='https://storage.budsc.midwest-datascience.com'\n",
    "current_dir = Path(os.getcwd()).absolute()\n",
    "results_dir = current_dir.joinpath('results')\n",
    "if results_dir.exists():\n",
    "    shutil.rmtree(results_dir)\n",
    "results_dir.mkdir(parents=True, exist_ok=True)\n",
    "def read_jsonl_data():\n",
    "    s3 = s3fs.S3FileSystem(\n",
    "        anon=True,\n",
    "        client_kwargs={\n",
    "            'endpoint_url': endpoint_url\n",
    "        }\n",
    "    )\n",
    "    src_data_path = 'data/processed/openflights/routes.jsonl.gz'\n",
    "    with s3.open(src_data_path, 'rb') as f_gz:\n",
    "        with gzip.open(f_gz, 'rb') as f:\n",
    "            records = [json.loads(line) for line in f.readlines()]\n",
    "        \n",
    "    return records\n",
    "def flatten_record(record):\n",
    "    flat_record = dict()\n",
    "    for key, value in record.items():\n",
    "        if key in ['airline', 'src_airport', 'dst_airport']:\n",
    "            if isinstance(value, dict):\n",
    "                for child_key, child_value in value.items():\n",
    "                    flat_key = '{}_{}'.format(key, child_key)\n",
    "                    flat_record[flat_key] = child_value\n",
    "        else:\n",
    "            flat_record[key] = value\n",
    "    \n",
    "    return flat_record\n",
    "def create_flattened_dataset():\n",
    "    records = read_jsonl_data()\n",
    "    parquet_path = results_dir.joinpath('routes-flattened.parquet')\n",
    "    return pd.DataFrame.from_records([flatten_record(record) for record in records])\n",
    "df = create_flattened_dataset()\n",
    "df['key'] = df['src_airport_iata'].astype(str) + df['dst_airport_iata'].astype(str) + df['airline_iata'].astype(str)"
   ]
  },
  {
   "cell_type": "code",
   "execution_count": 2,
   "id": "catholic-dressing",
   "metadata": {},
   "outputs": [
    {
     "data": {
      "text/html": [
       "<div>\n",
       "<style scoped>\n",
       "    .dataframe tbody tr th:only-of-type {\n",
       "        vertical-align: middle;\n",
       "    }\n",
       "\n",
       "    .dataframe tbody tr th {\n",
       "        vertical-align: top;\n",
       "    }\n",
       "\n",
       "    .dataframe thead th {\n",
       "        text-align: right;\n",
       "    }\n",
       "</style>\n",
       "<table border=\"1\" class=\"dataframe\">\n",
       "  <thead>\n",
       "    <tr style=\"text-align: right;\">\n",
       "      <th></th>\n",
       "      <th>airline_airline_id</th>\n",
       "      <th>airline_name</th>\n",
       "      <th>airline_alias</th>\n",
       "      <th>airline_iata</th>\n",
       "      <th>airline_icao</th>\n",
       "      <th>airline_callsign</th>\n",
       "      <th>airline_country</th>\n",
       "      <th>airline_active</th>\n",
       "      <th>src_airport_airport_id</th>\n",
       "      <th>src_airport_name</th>\n",
       "      <th>...</th>\n",
       "      <th>dst_airport_longitude</th>\n",
       "      <th>dst_airport_altitude</th>\n",
       "      <th>dst_airport_timezone</th>\n",
       "      <th>dst_airport_dst</th>\n",
       "      <th>dst_airport_tz_id</th>\n",
       "      <th>dst_airport_type</th>\n",
       "      <th>dst_airport_source</th>\n",
       "      <th>codeshare</th>\n",
       "      <th>equipment</th>\n",
       "      <th>key</th>\n",
       "    </tr>\n",
       "  </thead>\n",
       "  <tbody>\n",
       "    <tr>\n",
       "      <th>0</th>\n",
       "      <td>410</td>\n",
       "      <td>Aerocondor</td>\n",
       "      <td>ANA All Nippon Airways</td>\n",
       "      <td>2B</td>\n",
       "      <td>ARD</td>\n",
       "      <td>AEROCONDOR</td>\n",
       "      <td>Portugal</td>\n",
       "      <td>True</td>\n",
       "      <td>2965.0</td>\n",
       "      <td>Sochi International Airport</td>\n",
       "      <td>...</td>\n",
       "      <td>49.278702</td>\n",
       "      <td>411.0</td>\n",
       "      <td>3.0</td>\n",
       "      <td>N</td>\n",
       "      <td>Europe/Moscow</td>\n",
       "      <td>airport</td>\n",
       "      <td>OurAirports</td>\n",
       "      <td>False</td>\n",
       "      <td>[CR2]</td>\n",
       "      <td>AERKZN2B</td>\n",
       "    </tr>\n",
       "    <tr>\n",
       "      <th>1</th>\n",
       "      <td>410</td>\n",
       "      <td>Aerocondor</td>\n",
       "      <td>ANA All Nippon Airways</td>\n",
       "      <td>2B</td>\n",
       "      <td>ARD</td>\n",
       "      <td>AEROCONDOR</td>\n",
       "      <td>Portugal</td>\n",
       "      <td>True</td>\n",
       "      <td>2966.0</td>\n",
       "      <td>Astrakhan Airport</td>\n",
       "      <td>...</td>\n",
       "      <td>49.278702</td>\n",
       "      <td>411.0</td>\n",
       "      <td>3.0</td>\n",
       "      <td>N</td>\n",
       "      <td>Europe/Moscow</td>\n",
       "      <td>airport</td>\n",
       "      <td>OurAirports</td>\n",
       "      <td>False</td>\n",
       "      <td>[CR2]</td>\n",
       "      <td>ASFKZN2B</td>\n",
       "    </tr>\n",
       "    <tr>\n",
       "      <th>2</th>\n",
       "      <td>410</td>\n",
       "      <td>Aerocondor</td>\n",
       "      <td>ANA All Nippon Airways</td>\n",
       "      <td>2B</td>\n",
       "      <td>ARD</td>\n",
       "      <td>AEROCONDOR</td>\n",
       "      <td>Portugal</td>\n",
       "      <td>True</td>\n",
       "      <td>2966.0</td>\n",
       "      <td>Astrakhan Airport</td>\n",
       "      <td>...</td>\n",
       "      <td>43.081902</td>\n",
       "      <td>1054.0</td>\n",
       "      <td>3.0</td>\n",
       "      <td>N</td>\n",
       "      <td>Europe/Moscow</td>\n",
       "      <td>airport</td>\n",
       "      <td>OurAirports</td>\n",
       "      <td>False</td>\n",
       "      <td>[CR2]</td>\n",
       "      <td>ASFMRV2B</td>\n",
       "    </tr>\n",
       "    <tr>\n",
       "      <th>3</th>\n",
       "      <td>410</td>\n",
       "      <td>Aerocondor</td>\n",
       "      <td>ANA All Nippon Airways</td>\n",
       "      <td>2B</td>\n",
       "      <td>ARD</td>\n",
       "      <td>AEROCONDOR</td>\n",
       "      <td>Portugal</td>\n",
       "      <td>True</td>\n",
       "      <td>2968.0</td>\n",
       "      <td>Chelyabinsk Balandino Airport</td>\n",
       "      <td>...</td>\n",
       "      <td>49.278702</td>\n",
       "      <td>411.0</td>\n",
       "      <td>3.0</td>\n",
       "      <td>N</td>\n",
       "      <td>Europe/Moscow</td>\n",
       "      <td>airport</td>\n",
       "      <td>OurAirports</td>\n",
       "      <td>False</td>\n",
       "      <td>[CR2]</td>\n",
       "      <td>CEKKZN2B</td>\n",
       "    </tr>\n",
       "    <tr>\n",
       "      <th>4</th>\n",
       "      <td>410</td>\n",
       "      <td>Aerocondor</td>\n",
       "      <td>ANA All Nippon Airways</td>\n",
       "      <td>2B</td>\n",
       "      <td>ARD</td>\n",
       "      <td>AEROCONDOR</td>\n",
       "      <td>Portugal</td>\n",
       "      <td>True</td>\n",
       "      <td>2968.0</td>\n",
       "      <td>Chelyabinsk Balandino Airport</td>\n",
       "      <td>...</td>\n",
       "      <td>82.650703</td>\n",
       "      <td>365.0</td>\n",
       "      <td>7.0</td>\n",
       "      <td>N</td>\n",
       "      <td>Asia/Krasnoyarsk</td>\n",
       "      <td>airport</td>\n",
       "      <td>OurAirports</td>\n",
       "      <td>False</td>\n",
       "      <td>[CR2]</td>\n",
       "      <td>CEKOVB2B</td>\n",
       "    </tr>\n",
       "  </tbody>\n",
       "</table>\n",
       "<p>5 rows × 39 columns</p>\n",
       "</div>"
      ],
      "text/plain": [
       "   airline_airline_id airline_name           airline_alias airline_iata  \\\n",
       "0                 410   Aerocondor  ANA All Nippon Airways           2B   \n",
       "1                 410   Aerocondor  ANA All Nippon Airways           2B   \n",
       "2                 410   Aerocondor  ANA All Nippon Airways           2B   \n",
       "3                 410   Aerocondor  ANA All Nippon Airways           2B   \n",
       "4                 410   Aerocondor  ANA All Nippon Airways           2B   \n",
       "\n",
       "  airline_icao airline_callsign airline_country  airline_active  \\\n",
       "0          ARD       AEROCONDOR        Portugal            True   \n",
       "1          ARD       AEROCONDOR        Portugal            True   \n",
       "2          ARD       AEROCONDOR        Portugal            True   \n",
       "3          ARD       AEROCONDOR        Portugal            True   \n",
       "4          ARD       AEROCONDOR        Portugal            True   \n",
       "\n",
       "   src_airport_airport_id               src_airport_name  ...  \\\n",
       "0                  2965.0    Sochi International Airport  ...   \n",
       "1                  2966.0              Astrakhan Airport  ...   \n",
       "2                  2966.0              Astrakhan Airport  ...   \n",
       "3                  2968.0  Chelyabinsk Balandino Airport  ...   \n",
       "4                  2968.0  Chelyabinsk Balandino Airport  ...   \n",
       "\n",
       "  dst_airport_longitude dst_airport_altitude dst_airport_timezone  \\\n",
       "0             49.278702                411.0                  3.0   \n",
       "1             49.278702                411.0                  3.0   \n",
       "2             43.081902               1054.0                  3.0   \n",
       "3             49.278702                411.0                  3.0   \n",
       "4             82.650703                365.0                  7.0   \n",
       "\n",
       "  dst_airport_dst  dst_airport_tz_id  dst_airport_type  dst_airport_source  \\\n",
       "0               N      Europe/Moscow           airport         OurAirports   \n",
       "1               N      Europe/Moscow           airport         OurAirports   \n",
       "2               N      Europe/Moscow           airport         OurAirports   \n",
       "3               N      Europe/Moscow           airport         OurAirports   \n",
       "4               N   Asia/Krasnoyarsk           airport         OurAirports   \n",
       "\n",
       "   codeshare equipment       key  \n",
       "0      False     [CR2]  AERKZN2B  \n",
       "1      False     [CR2]  ASFKZN2B  \n",
       "2      False     [CR2]  ASFMRV2B  \n",
       "3      False     [CR2]  CEKKZN2B  \n",
       "4      False     [CR2]  CEKOVB2B  \n",
       "\n",
       "[5 rows x 39 columns]"
      ]
     },
     "execution_count": 2,
     "metadata": {},
     "output_type": "execute_result"
    }
   ],
   "source": [
    "df.head()"
   ]
  },
  {
   "cell_type": "code",
   "execution_count": 3,
   "id": "institutional-distance",
   "metadata": {},
   "outputs": [
    {
     "data": {
      "text/plain": [
       "(67663, 39)"
      ]
     },
     "execution_count": 3,
     "metadata": {},
     "output_type": "execute_result"
    }
   ],
   "source": [
    "df.shape"
   ]
  },
  {
   "cell_type": "code",
   "execution_count": 4,
   "id": "vital-glenn",
   "metadata": {},
   "outputs": [],
   "source": [
    "df['kv_key']= df['key'].str[:1]\n"
   ]
  },
  {
   "cell_type": "code",
   "execution_count": 5,
   "id": "treated-split",
   "metadata": {},
   "outputs": [],
   "source": [
    "df['kv_key'].replace({'C':'C-D','n':'N','D':'C-D','E':'E-F','F':'E-F','G':'G-H','H':'G-H','I':'I-J','J':'I-J', 'K':'K-L','L':'K-L', 'O':'O-P','P':'O-P', 'Q':'Q-R', 'R':'Q-R', 'S':'S-T','T':'S-T', 'W':'W-X', 'X':'W-X',  'Y':'Y-Z', 'Z':'Y-Z'}, inplace=True)"
   ]
  },
  {
   "cell_type": "code",
   "execution_count": 6,
   "id": "cordless-contribution",
   "metadata": {},
   "outputs": [
    {
     "data": {
      "text/plain": [
       "0          A\n",
       "1          A\n",
       "2          A\n",
       "3        C-D\n",
       "4        C-D\n",
       "        ... \n",
       "67658    W-X\n",
       "67659    C-D\n",
       "67660    E-F\n",
       "67661    E-F\n",
       "67662    O-P\n",
       "Name: kv_key, Length: 67663, dtype: object"
      ]
     },
     "execution_count": 6,
     "metadata": {},
     "output_type": "execute_result"
    }
   ],
   "source": [
    "df['kv_key']"
   ]
  },
  {
   "cell_type": "code",
   "execution_count": 7,
   "id": "stopped-roots",
   "metadata": {},
   "outputs": [],
   "source": [
    "df.to_parquet(results_dir, partition_cols=['kv_key'])"
   ]
  },
  {
   "cell_type": "code",
   "execution_count": null,
   "id": "corporate-worth",
   "metadata": {},
   "outputs": [],
   "source": []
  },
  {
   "cell_type": "markdown",
   "id": "affected-framing",
   "metadata": {},
   "source": [
    "Assignment 7.1 B"
   ]
  },
  {
   "cell_type": "code",
   "execution_count": 8,
   "id": "professional-dictionary",
   "metadata": {},
   "outputs": [],
   "source": [
    "import hashlib\n",
    "\n",
    "def hash_key(key):\n",
    "    m = hashlib.sha256()\n",
    "    m.update(str(key).encode('utf-8'))\n",
    "    return m.hexdigest()"
   ]
  },
  {
   "cell_type": "code",
   "execution_count": 9,
   "id": "limited-bahrain",
   "metadata": {},
   "outputs": [],
   "source": [
    "df['hashed']= df['key'].apply(lambda x: hash_key(x))"
   ]
  },
  {
   "cell_type": "code",
   "execution_count": 10,
   "id": "military-jacksonville",
   "metadata": {},
   "outputs": [
    {
     "data": {
      "text/plain": [
       "0        652cdec02010381f175efe499e070c8cbaac1522bac59a...\n",
       "1        9eea5dd88177f8d835b2bb9cb27fb01268122b635b241a...\n",
       "2        161143856af25bd4475f62c80c19f68936a139f653c1d3...\n",
       "3        39aa99e6ae2757341bede9584473906ef1089e30820c90...\n",
       "4        143b3389bce68eea3a13ac26a9c76c1fa583ec2bd26ea8...\n",
       "                               ...                        \n",
       "67658    f31527be84c36208c05cac57dfac8a46b48a87dda151f8...\n",
       "67659    880fc35ca283ad034c90becc4e331b72ee894b9eb69f76...\n",
       "67660    e976939986fbf947bb9318018cef717c0b34dff91e5e67...\n",
       "67661    8b0c0b835a58a4250e020d51ec2a896e4ef3f5c3543b8e...\n",
       "67662    629f14f3fb6f94ebd1522d33a3c50675942e3148d028b4...\n",
       "Name: hashed, Length: 67663, dtype: object"
      ]
     },
     "execution_count": 10,
     "metadata": {},
     "output_type": "execute_result"
    }
   ],
   "source": [
    "df['hashed']"
   ]
  },
  {
   "cell_type": "code",
   "execution_count": 11,
   "id": "alike-annotation",
   "metadata": {},
   "outputs": [],
   "source": [
    "df['hashed_key']= df['hashed'].str[:1]"
   ]
  },
  {
   "cell_type": "code",
   "execution_count": 12,
   "id": "worth-profit",
   "metadata": {},
   "outputs": [],
   "source": [
    "df.to_parquet(results_dir, partition_cols=['hashed_key'])"
   ]
  },
  {
   "cell_type": "code",
   "execution_count": null,
   "id": "loving-mobility",
   "metadata": {},
   "outputs": [],
   "source": []
  },
  {
   "cell_type": "markdown",
   "id": "separate-queen",
   "metadata": {},
   "source": [
    "Assignment 7.1 C"
   ]
  },
  {
   "cell_type": "code",
   "execution_count": 13,
   "id": "ultimate-george",
   "metadata": {},
   "outputs": [],
   "source": [
    "df['src_airport_geohash']= df.apply(lambda row: pygeohash.encode(row.src_airport_latitude, row.src_airport_longitude), axis=1)"
   ]
  },
  {
   "cell_type": "code",
   "execution_count": 14,
   "id": "quarterly-taxation",
   "metadata": {},
   "outputs": [],
   "source": [
    "def determine_location(src_airport_geohash):\n",
    "    locations=dict(\n",
    "    central= pygeohash.encode(41.1544433, -96.0422378),\n",
    "    east= pygeohash.encode(39.08344, -77.6497145),\n",
    "    west= pygeohash.encode(45.5945645, -121.1786823))\n",
    "    \n",
    "    \n",
    "    \n",
    "    distances= []\n",
    "    for location, geohash in locations.items():\n",
    "        haversine= pygeohash.geohash_haversine_distance(src_airport_geohash, geohash)\n",
    "        distances.append(tuple((haversine, location)))\n",
    "    \n",
    "    distances.sort()\n",
    "    return distances[0][1]\n",
    "\n",
    "df['location'] = df['src_airport_geohash'].apply(determine_location)\n",
    "df.to_parquet('results/geo', partition_cols=['location'])"
   ]
  },
  {
   "cell_type": "code",
   "execution_count": null,
   "id": "logical-philadelphia",
   "metadata": {},
   "outputs": [],
   "source": []
  },
  {
   "cell_type": "markdown",
   "id": "nearby-symbol",
   "metadata": {},
   "source": [
    "Assignment 7.1 D"
   ]
  },
  {
   "cell_type": "code",
   "execution_count": 15,
   "id": "formed-structure",
   "metadata": {},
   "outputs": [],
   "source": [
    "keys= df['hashed'].to_list()"
   ]
  },
  {
   "cell_type": "code",
   "execution_count": 16,
   "id": "conditional-period",
   "metadata": {},
   "outputs": [],
   "source": [
    "import numpy as np"
   ]
  },
  {
   "cell_type": "code",
   "execution_count": 17,
   "id": "supposed-yesterday",
   "metadata": {},
   "outputs": [],
   "source": [
    "import math\n",
    "\n",
    "def balance_partitions(keys, num_partitions):\n",
    "    n = math.ceil(len(keys)/num_partitions)\n",
    "\n",
    "    for x in range(0, len(keys), n):\n",
    "        each_set = keys[x: n+x]\n",
    "\n",
    "        if len(each_set) < n:\n",
    "            each_set = each_set + [None for y in range(n-len(each_set))]\n",
    "        print(each_set)"
   ]
  },
  {
   "cell_type": "code",
   "execution_count": 23,
   "id": "induced-upgrade",
   "metadata": {},
   "outputs": [],
   "source": [
    "keys=[1,2,3,'b','c','a','d','m','z','p','q',6,7,8,9,10,11,12,13,14]\n",
    "num_partitions=10"
   ]
  },
  {
   "cell_type": "code",
   "execution_count": 24,
   "id": "excellent-purse",
   "metadata": {},
   "outputs": [
    {
     "name": "stdout",
     "output_type": "stream",
     "text": [
      "[1, 2]\n",
      "[3, 'b']\n",
      "['c', 'a']\n",
      "['d', 'm']\n",
      "['z', 'p']\n",
      "['q', 6]\n",
      "[7, 8]\n",
      "[9, 10]\n",
      "[11, 12]\n",
      "[13, 14]\n"
     ]
    }
   ],
   "source": [
    "balance_partitions(keys,num_partitions)"
   ]
  }
 ],
 "metadata": {
  "kernelspec": {
   "display_name": "Python 3",
   "language": "python",
   "name": "python3"
  },
  "language_info": {
   "codemirror_mode": {
    "name": "ipython",
    "version": 3
   },
   "file_extension": ".py",
   "mimetype": "text/x-python",
   "name": "python",
   "nbconvert_exporter": "python",
   "pygments_lexer": "ipython3",
   "version": "3.8.8"
  }
 },
 "nbformat": 4,
 "nbformat_minor": 5
}
